{
 "cells": [
  {
   "cell_type": "code",
   "execution_count": 1,
   "id": "dd1ce3fa-f018-423e-97dd-c9ce2d55a736",
   "metadata": {},
   "outputs": [],
   "source": [
    "#!pip install geneticalgorithm"
   ]
  },
  {
   "cell_type": "code",
   "execution_count": 46,
   "id": "74e79f66-b8dc-4e74-a382-85fd2eb1d482",
   "metadata": {
    "executionInfo": {
     "elapsed": 6070,
     "status": "ok",
     "timestamp": 1739864793200,
     "user": {
      "displayName": "Anna Burda",
      "userId": "09516679268739957570"
     },
     "user_tz": -60
    },
    "id": "fdbf45a1-afee-4e50-b0a5-5dd3e85298c7"
   },
   "outputs": [],
   "source": [
    "import pandas as pd\n",
    "import numpy as np\n",
    "import tensorflow as tf\n",
    "import csv\n",
    "import shap\n",
    "from keras import models\n",
    "from keras import layers\n",
    "from keras.datasets import mnist\n",
    "from sklearn.model_selection import train_test_split\n",
    "from sklearn.cluster import AgglomerativeClustering\n",
    "from geneticalgorithm import geneticalgorithm as ga\n",
    "from matplotlib import pyplot as plt"
   ]
  },
  {
   "cell_type": "markdown",
   "id": "f1a02419-4cb6-401a-b6cc-e12bc7727a46",
   "metadata": {},
   "source": [
    "## Rough Set Flow Graph"
   ]
  },
  {
   "cell_type": "code",
   "execution_count": 2,
   "id": "17fdab25-15b2-4302-96f3-c0da5e2941f6",
   "metadata": {},
   "outputs": [],
   "source": [
    "graph_file_name = 'rsfg.csv'"
   ]
  },
  {
   "cell_type": "code",
   "execution_count": 3,
   "id": "a6556de1-3d2d-4f78-8295-3f2787da33e1",
   "metadata": {},
   "outputs": [],
   "source": [
    "def save_edge_list_with_coefficients_csv(df, filename):\n",
    "    num_cols = df.shape[1]\n",
    "    with open(filename, 'w', newline='', encoding='utf-8') as csvfile:\n",
    "        writer = csv.writer(csvfile)\n",
    "        writer.writerow([\"Level\", \"Relation\", \"Cnt (count)\", \"Cer (certainty)\", \"Cov (coverage)\", \"Str (strength)\"])\n",
    "        for level in range(num_cols - 1):\n",
    "            edge_counts = {}\n",
    "            source_counts = {}\n",
    "            target_counts = {}\n",
    "            #lower_dict = {}\n",
    "            #upper_dict = {}\n",
    "            total_possible = len(df.iloc[:, level + 1])\n",
    "            for _, row in df.iterrows():\n",
    "                source = str(row.iloc[level])\n",
    "                target = str(row.iloc[level + 1])\n",
    "                key = (source, target)\n",
    "                edge_counts[key] = edge_counts.get(key, 0) + 1\n",
    "                source_counts[source] = source_counts.get(source, 0) + 1\n",
    "                target_counts[target] = target_counts.get(target, 0) + 1\n",
    "                #lower_dict.setdefault(source, set()).add(target)\n",
    "                #upper_dict.setdefault(target, set()).add(source)\n",
    "            for (source, target), count in edge_counts.items():\n",
    "                #cer = 1 / len(lower_dict[source]) if lower_dict[source] else 0\n",
    "                #cov = 1 / len(upper_dict[target]) if upper_dict[target] else 0\n",
    "                cer = count / source_counts[source] if source_counts[source] else 0\n",
    "                cov = count / target_counts[target] if target_counts[target] else 0\n",
    "                str_value = count / total_possible if total_possible else 0\n",
    "                lev = f\"{level}<>{level+1}\"\n",
    "                rel = f\"{source}-->{target}\"\n",
    "                writer.writerow([lev, rel, count, f\"{cer:.6f}\", f\"{cov:.6f}\", f\"{str_value:.6f}\"])"
   ]
  },
  {
   "cell_type": "markdown",
   "id": "0f220fdf-51f7-407f-b4a2-07c9b1653da6",
   "metadata": {},
   "source": [
    "## Data"
   ]
  },
  {
   "cell_type": "code",
   "execution_count": 4,
   "id": "82770c73-bbd5-4073-8e4c-e32acfcb76b4",
   "metadata": {
    "colab": {
     "base_uri": "https://localhost:8080/"
    },
    "executionInfo": {
     "elapsed": 1154,
     "status": "ok",
     "timestamp": 1739864803166,
     "user": {
      "displayName": "Anna Burda",
      "userId": "09516679268739957570"
     },
     "user_tz": -60
    },
    "id": "82770c73-bbd5-4073-8e4c-e32acfcb76b4",
    "outputId": "57d9b91c-ae98-4b20-81a1-ece32b3aa1b5"
   },
   "outputs": [],
   "source": [
    "(x_train_valid, y_train_valid), (x_test, y_test) = mnist.load_data()\n",
    "x_train, x_valid, y_train, y_valid = train_test_split(x_train_valid, y_train_valid, test_size=0.2, stratify=y_train_valid)\n",
    "\n",
    "x_train = x_train.reshape((x_train.shape[0], x_train.shape[1], x_train.shape[2], 1))\n",
    "x_valid = x_valid.reshape((x_valid.shape[0], x_valid.shape[1], x_valid.shape[2], 1))\n",
    "x_test = x_test.reshape((x_test.shape[0], x_test.shape[1], x_test.shape[2], 1))\n",
    "\n",
    "x_train = x_train.astype('float32')\n",
    "x_valid = x_valid.astype('float32')\n",
    "x_test = x_test.astype('float32')\n",
    "\n",
    "x_train = x_train/255.0\n",
    "x_valid = x_valid/255.0\n",
    "x_test = x_test/255.0\n",
    "\n",
    "#print(x_train)\n",
    "\n",
    "y_train = tf.keras.utils.to_categorical(y_train)\n",
    "y_valid = tf.keras.utils.to_categorical(y_valid)\n",
    "y_test = tf.keras.utils.to_categorical(y_test)"
   ]
  },
  {
   "cell_type": "code",
   "execution_count": 5,
   "id": "7d408eff-e1b7-4e49-9a79-db595eb49858",
   "metadata": {
    "colab": {
     "base_uri": "https://localhost:8080/"
    },
    "executionInfo": {
     "elapsed": 229,
     "status": "ok",
     "timestamp": 1739864805349,
     "user": {
      "displayName": "Anna Burda",
      "userId": "09516679268739957570"
     },
     "user_tz": -60
    },
    "id": "7d408eff-e1b7-4e49-9a79-db595eb49858",
    "outputId": "cbcfa489-5c86-4f97-e44e-e131f20e43ba"
   },
   "outputs": [
    {
     "name": "stdout",
     "output_type": "stream",
     "text": [
      "(48000, 28, 28, 1)\n",
      "(48000, 10)\n",
      "(12000, 28, 28, 1)\n",
      "(12000, 10)\n",
      "(10000, 28, 28, 1)\n",
      "(10000, 10)\n"
     ]
    }
   ],
   "source": [
    "print(x_train.shape)\n",
    "print(y_train.shape)\n",
    "print(x_valid.shape)\n",
    "print(y_valid.shape)\n",
    "print(x_test.shape)\n",
    "print(y_test.shape)"
   ]
  },
  {
   "cell_type": "markdown",
   "id": "7f784098-2e1f-4aac-9060-39e60615658d",
   "metadata": {},
   "source": [
    "## Model"
   ]
  },
  {
   "cell_type": "code",
   "execution_count": 6,
   "id": "b5bfdfd2-dbd3-4c89-986e-a3c71cd7ca39",
   "metadata": {},
   "outputs": [],
   "source": [
    "n_filters_conv_1 = 4\n",
    "n_filters_conv_2 = 4\n",
    "n_neurons_dense_1 = 50\n",
    "n_neurons_dense_2 = 10"
   ]
  },
  {
   "cell_type": "code",
   "execution_count": null,
   "id": "35826b18-3976-4bdc-b0cd-a65c0400c0d4",
   "metadata": {
    "id": "35826b18-3976-4bdc-b0cd-a65c0400c0d4"
   },
   "outputs": [],
   "source": [
    "model = models.Sequential()\n",
    "model.add(layers.Conv2D(n_filters_conv_1, (5, 5), activation='relu', input_shape=(x_train.shape[1], x_train.shape[2], x_train.shape[3])))\n",
    "model.add(layers.Conv2D(n_filters_conv_2, (5, 5), activation='relu'))\n",
    "model.add(layers.Flatten())\n",
    "model.add(layers.Dense(n_neurons_dense_1, activation='relu'))\n",
    "model.add(layers.Dense(n_neurons_dense_2, activation='softmax'))\n",
    "model.compile(optimizer='rmsprop', loss='categorical_crossentropy', metrics=['accuracy'])"
   ]
  },
  {
   "cell_type": "code",
   "execution_count": 8,
   "id": "1fbb5bd4-da0a-42c2-93e4-072a18298c21",
   "metadata": {
    "colab": {
     "base_uri": "https://localhost:8080/",
     "height": 305
    },
    "executionInfo": {
     "elapsed": 251,
     "status": "ok",
     "timestamp": 1739864869811,
     "user": {
      "displayName": "Anna Burda",
      "userId": "09516679268739957570"
     },
     "user_tz": -60
    },
    "id": "1fbb5bd4-da0a-42c2-93e4-072a18298c21",
    "outputId": "a7e77112-140b-4343-9b97-4e2c28e4a012"
   },
   "outputs": [
    {
     "data": {
      "text/html": [
       "<pre style=\"white-space:pre;overflow-x:auto;line-height:normal;font-family:Menlo,'DejaVu Sans Mono',consolas,'Courier New',monospace\"><span style=\"font-weight: bold\">Model: \"sequential\"</span>\n",
       "</pre>\n"
      ],
      "text/plain": [
       "\u001b[1mModel: \"sequential\"\u001b[0m\n"
      ]
     },
     "metadata": {},
     "output_type": "display_data"
    },
    {
     "data": {
      "text/html": [
       "<pre style=\"white-space:pre;overflow-x:auto;line-height:normal;font-family:Menlo,'DejaVu Sans Mono',consolas,'Courier New',monospace\">┏━━━━━━━━━━━━━━━━━━━━━━━━━━━━━━━━━┳━━━━━━━━━━━━━━━━━━━━━━━━┳━━━━━━━━━━━━━━━┓\n",
       "┃<span style=\"font-weight: bold\"> Layer (type)                    </span>┃<span style=\"font-weight: bold\"> Output Shape           </span>┃<span style=\"font-weight: bold\">       Param # </span>┃\n",
       "┡━━━━━━━━━━━━━━━━━━━━━━━━━━━━━━━━━╇━━━━━━━━━━━━━━━━━━━━━━━━╇━━━━━━━━━━━━━━━┩\n",
       "│ conv2d (<span style=\"color: #0087ff; text-decoration-color: #0087ff\">Conv2D</span>)                 │ (<span style=\"color: #00d7ff; text-decoration-color: #00d7ff\">None</span>, <span style=\"color: #00af00; text-decoration-color: #00af00\">24</span>, <span style=\"color: #00af00; text-decoration-color: #00af00\">24</span>, <span style=\"color: #00af00; text-decoration-color: #00af00\">4</span>)      │           <span style=\"color: #00af00; text-decoration-color: #00af00\">104</span> │\n",
       "├─────────────────────────────────┼────────────────────────┼───────────────┤\n",
       "│ conv2d_1 (<span style=\"color: #0087ff; text-decoration-color: #0087ff\">Conv2D</span>)               │ (<span style=\"color: #00d7ff; text-decoration-color: #00d7ff\">None</span>, <span style=\"color: #00af00; text-decoration-color: #00af00\">20</span>, <span style=\"color: #00af00; text-decoration-color: #00af00\">20</span>, <span style=\"color: #00af00; text-decoration-color: #00af00\">4</span>)      │           <span style=\"color: #00af00; text-decoration-color: #00af00\">404</span> │\n",
       "├─────────────────────────────────┼────────────────────────┼───────────────┤\n",
       "│ flatten (<span style=\"color: #0087ff; text-decoration-color: #0087ff\">Flatten</span>)               │ (<span style=\"color: #00d7ff; text-decoration-color: #00d7ff\">None</span>, <span style=\"color: #00af00; text-decoration-color: #00af00\">1600</span>)           │             <span style=\"color: #00af00; text-decoration-color: #00af00\">0</span> │\n",
       "├─────────────────────────────────┼────────────────────────┼───────────────┤\n",
       "│ dense (<span style=\"color: #0087ff; text-decoration-color: #0087ff\">Dense</span>)                   │ (<span style=\"color: #00d7ff; text-decoration-color: #00d7ff\">None</span>, <span style=\"color: #00af00; text-decoration-color: #00af00\">50</span>)             │        <span style=\"color: #00af00; text-decoration-color: #00af00\">80,050</span> │\n",
       "├─────────────────────────────────┼────────────────────────┼───────────────┤\n",
       "│ dense_1 (<span style=\"color: #0087ff; text-decoration-color: #0087ff\">Dense</span>)                 │ (<span style=\"color: #00d7ff; text-decoration-color: #00d7ff\">None</span>, <span style=\"color: #00af00; text-decoration-color: #00af00\">10</span>)             │           <span style=\"color: #00af00; text-decoration-color: #00af00\">510</span> │\n",
       "└─────────────────────────────────┴────────────────────────┴───────────────┘\n",
       "</pre>\n"
      ],
      "text/plain": [
       "┏━━━━━━━━━━━━━━━━━━━━━━━━━━━━━━━━━┳━━━━━━━━━━━━━━━━━━━━━━━━┳━━━━━━━━━━━━━━━┓\n",
       "┃\u001b[1m \u001b[0m\u001b[1mLayer (type)                   \u001b[0m\u001b[1m \u001b[0m┃\u001b[1m \u001b[0m\u001b[1mOutput Shape          \u001b[0m\u001b[1m \u001b[0m┃\u001b[1m \u001b[0m\u001b[1m      Param #\u001b[0m\u001b[1m \u001b[0m┃\n",
       "┡━━━━━━━━━━━━━━━━━━━━━━━━━━━━━━━━━╇━━━━━━━━━━━━━━━━━━━━━━━━╇━━━━━━━━━━━━━━━┩\n",
       "│ conv2d (\u001b[38;5;33mConv2D\u001b[0m)                 │ (\u001b[38;5;45mNone\u001b[0m, \u001b[38;5;34m24\u001b[0m, \u001b[38;5;34m24\u001b[0m, \u001b[38;5;34m4\u001b[0m)      │           \u001b[38;5;34m104\u001b[0m │\n",
       "├─────────────────────────────────┼────────────────────────┼───────────────┤\n",
       "│ conv2d_1 (\u001b[38;5;33mConv2D\u001b[0m)               │ (\u001b[38;5;45mNone\u001b[0m, \u001b[38;5;34m20\u001b[0m, \u001b[38;5;34m20\u001b[0m, \u001b[38;5;34m4\u001b[0m)      │           \u001b[38;5;34m404\u001b[0m │\n",
       "├─────────────────────────────────┼────────────────────────┼───────────────┤\n",
       "│ flatten (\u001b[38;5;33mFlatten\u001b[0m)               │ (\u001b[38;5;45mNone\u001b[0m, \u001b[38;5;34m1600\u001b[0m)           │             \u001b[38;5;34m0\u001b[0m │\n",
       "├─────────────────────────────────┼────────────────────────┼───────────────┤\n",
       "│ dense (\u001b[38;5;33mDense\u001b[0m)                   │ (\u001b[38;5;45mNone\u001b[0m, \u001b[38;5;34m50\u001b[0m)             │        \u001b[38;5;34m80,050\u001b[0m │\n",
       "├─────────────────────────────────┼────────────────────────┼───────────────┤\n",
       "│ dense_1 (\u001b[38;5;33mDense\u001b[0m)                 │ (\u001b[38;5;45mNone\u001b[0m, \u001b[38;5;34m10\u001b[0m)             │           \u001b[38;5;34m510\u001b[0m │\n",
       "└─────────────────────────────────┴────────────────────────┴───────────────┘\n"
      ]
     },
     "metadata": {},
     "output_type": "display_data"
    },
    {
     "data": {
      "text/html": [
       "<pre style=\"white-space:pre;overflow-x:auto;line-height:normal;font-family:Menlo,'DejaVu Sans Mono',consolas,'Courier New',monospace\"><span style=\"font-weight: bold\"> Total params: </span><span style=\"color: #00af00; text-decoration-color: #00af00\">81,068</span> (316.67 KB)\n",
       "</pre>\n"
      ],
      "text/plain": [
       "\u001b[1m Total params: \u001b[0m\u001b[38;5;34m81,068\u001b[0m (316.67 KB)\n"
      ]
     },
     "metadata": {},
     "output_type": "display_data"
    },
    {
     "data": {
      "text/html": [
       "<pre style=\"white-space:pre;overflow-x:auto;line-height:normal;font-family:Menlo,'DejaVu Sans Mono',consolas,'Courier New',monospace\"><span style=\"font-weight: bold\"> Trainable params: </span><span style=\"color: #00af00; text-decoration-color: #00af00\">81,068</span> (316.67 KB)\n",
       "</pre>\n"
      ],
      "text/plain": [
       "\u001b[1m Trainable params: \u001b[0m\u001b[38;5;34m81,068\u001b[0m (316.67 KB)\n"
      ]
     },
     "metadata": {},
     "output_type": "display_data"
    },
    {
     "data": {
      "text/html": [
       "<pre style=\"white-space:pre;overflow-x:auto;line-height:normal;font-family:Menlo,'DejaVu Sans Mono',consolas,'Courier New',monospace\"><span style=\"font-weight: bold\"> Non-trainable params: </span><span style=\"color: #00af00; text-decoration-color: #00af00\">0</span> (0.00 B)\n",
       "</pre>\n"
      ],
      "text/plain": [
       "\u001b[1m Non-trainable params: \u001b[0m\u001b[38;5;34m0\u001b[0m (0.00 B)\n"
      ]
     },
     "metadata": {},
     "output_type": "display_data"
    }
   ],
   "source": [
    "model.summary()"
   ]
  },
  {
   "cell_type": "code",
   "execution_count": 9,
   "id": "fd586e66-ff40-44f7-afe0-5d00ff927a94",
   "metadata": {
    "id": "fd586e66-ff40-44f7-afe0-5d00ff927a94"
   },
   "outputs": [
    {
     "name": "stderr",
     "output_type": "stream",
     "text": [
      "WARNING: All log messages before absl::InitializeLog() is called are written to STDERR\n",
      "I0000 00:00:1742067946.857931 1354188 service.cc:148] XLA service 0x732e9c003660 initialized for platform CUDA (this does not guarantee that XLA will be used). Devices:\n",
      "I0000 00:00:1742067946.857957 1354188 service.cc:156]   StreamExecutor device (0): NVIDIA GeForce RTX 4090, Compute Capability 8.9\n",
      "2025-03-15 20:45:46.891353: I tensorflow/compiler/mlir/tensorflow/utils/dump_mlir_util.cc:268] disabling MLIR crash reproducer, set env var `MLIR_CRASH_REPRODUCER_DIRECTORY` to enable.\n",
      "I0000 00:00:1742067946.948880 1354188 cuda_dnn.cc:529] Loaded cuDNN version 90300\n",
      "I0000 00:00:1742067947.712685 1354188 device_compiler.h:188] Compiled cluster using XLA!  This line is logged at most once for the lifetime of the process.\n"
     ]
    }
   ],
   "source": [
    "history = model.fit(x_train, y_train, epochs=20, batch_size=32, validation_data=(x_valid, y_valid), verbose=0)"
   ]
  },
  {
   "cell_type": "code",
   "execution_count": 10,
   "id": "3402d447-cec9-47cb-a71b-efdec2a236e0",
   "metadata": {
    "executionInfo": {
     "elapsed": 215,
     "status": "ok",
     "timestamp": 1739864901133,
     "user": {
      "displayName": "Anna Burda",
      "userId": "09516679268739957570"
     },
     "user_tz": -60
    },
    "id": "3402d447-cec9-47cb-a71b-efdec2a236e0"
   },
   "outputs": [],
   "source": [
    "layer_outputs = [layer.output for layer in model.layers[:5]]\n",
    "activation_model = models.Model(inputs=model.layers[0].input, outputs=layer_outputs)"
   ]
  },
  {
   "cell_type": "code",
   "execution_count": 11,
   "id": "90b09dfa-5d76-4119-a89a-b11cc5e397c6",
   "metadata": {
    "colab": {
     "base_uri": "https://localhost:8080/"
    },
    "executionInfo": {
     "elapsed": 8688,
     "status": "ok",
     "timestamp": 1739865003080,
     "user": {
      "displayName": "Anna Burda",
      "userId": "09516679268739957570"
     },
     "user_tz": -60
    },
    "id": "90b09dfa-5d76-4119-a89a-b11cc5e397c6",
    "outputId": "0324f866-b1af-4e69-daa6-4bb079eadad8"
   },
   "outputs": [
    {
     "name": "stdout",
     "output_type": "stream",
     "text": [
      "\u001b[1m1500/1500\u001b[0m \u001b[32m━━━━━━━━━━━━━━━━━━━━\u001b[0m\u001b[37m\u001b[0m \u001b[1m2s\u001b[0m 864us/step\n"
     ]
    }
   ],
   "source": [
    "activations = activation_model.predict(x=x_train)"
   ]
  },
  {
   "cell_type": "code",
   "execution_count": 12,
   "id": "53a2d4da-15f3-41fc-8b49-e3d0ff4c93f1",
   "metadata": {
    "executionInfo": {
     "elapsed": 216,
     "status": "ok",
     "timestamp": 1739865019522,
     "user": {
      "displayName": "Anna Burda",
      "userId": "09516679268739957570"
     },
     "user_tz": -60
    },
    "id": "53a2d4da-15f3-41fc-8b49-e3d0ff4c93f1"
   },
   "outputs": [],
   "source": [
    "artifact_clusters = pd.DataFrame()"
   ]
  },
  {
   "cell_type": "code",
   "execution_count": 13,
   "id": "b5e12d2a-a9db-4017-a4f2-d842be0b10f0",
   "metadata": {
    "colab": {
     "base_uri": "https://localhost:8080/"
    },
    "executionInfo": {
     "elapsed": 112948,
     "status": "ok",
     "timestamp": 1739865176378,
     "user": {
      "displayName": "Anna Burda",
      "userId": "09516679268739957570"
     },
     "user_tz": -60
    },
    "id": "b5e12d2a-a9db-4017-a4f2-d842be0b10f0",
    "outputId": "fe28ba18-013e-4c24-a51d-6735873d1e82"
   },
   "outputs": [
    {
     "name": "stdout",
     "output_type": "stream",
     "text": [
      "filter: 0\n",
      "filter: 1\n",
      "filter: 2\n",
      "filter: 3\n"
     ]
    }
   ],
   "source": [
    "for f in range(n_filters_conv_1):\n",
    "\n",
    "    print('filter: '+str(f))\n",
    "\n",
    "    activations_f = activations[0][:,:,:,f]\n",
    "    activations_f = activations_f.reshape([activations_f.shape[0],activations_f.shape[1]*activations_f.shape[2]])\n",
    "    ac_f = AgglomerativeClustering(n_clusters=4).fit(activations_f)\n",
    "\n",
    "    artifact_clusters['l0_f'+str(f)] = ac_f.labels_"
   ]
  },
  {
   "cell_type": "code",
   "execution_count": 14,
   "id": "af759edc-90e2-4c8e-8edd-4d0fb4768383",
   "metadata": {
    "colab": {
     "base_uri": "https://localhost:8080/"
    },
    "executionInfo": {
     "elapsed": 8,
     "status": "ok",
     "timestamp": 1739865177271,
     "user": {
      "displayName": "Anna Burda",
      "userId": "09516679268739957570"
     },
     "user_tz": -60
    },
    "id": "af759edc-90e2-4c8e-8edd-4d0fb4768383",
    "outputId": "93392ad1-dbda-45ee-9e2e-aa1ebc01cd78"
   },
   "outputs": [
    {
     "name": "stdout",
     "output_type": "stream",
     "text": [
      "       l0_f0  l0_f1  l0_f2  l0_f3\n",
      "0          0      0      2      1\n",
      "1          0      0      1      1\n",
      "2          3      2      2      0\n",
      "3          0      0      2      2\n",
      "4          0      0      0      2\n",
      "...      ...    ...    ...    ...\n",
      "47995      0      0      0      2\n",
      "47996      0      0      3      1\n",
      "47997      1      1      2      0\n",
      "47998      0      0      1      1\n",
      "47999      0      0      3      1\n",
      "\n",
      "[48000 rows x 4 columns]\n"
     ]
    }
   ],
   "source": [
    "print(artifact_clusters)"
   ]
  },
  {
   "cell_type": "code",
   "execution_count": 16,
   "id": "4be4d9eb-5025-4c59-a022-419e87501ef0",
   "metadata": {
    "colab": {
     "base_uri": "https://localhost:8080/"
    },
    "executionInfo": {
     "elapsed": 91791,
     "status": "ok",
     "timestamp": 1739865350932,
     "user": {
      "displayName": "Anna Burda",
      "userId": "09516679268739957570"
     },
     "user_tz": -60
    },
    "id": "4be4d9eb-5025-4c59-a022-419e87501ef0",
    "outputId": "f2e1aa92-1b8d-4ba5-cdad-72283b90e532"
   },
   "outputs": [
    {
     "name": "stdout",
     "output_type": "stream",
     "text": [
      "filter: 0\n",
      "filter: 1\n",
      "filter: 2\n",
      "filter: 3\n"
     ]
    }
   ],
   "source": [
    "for f in range(n_filters_conv_2):\n",
    "\n",
    "    print('filter: '+str(f))\n",
    "\n",
    "    activations_f = activations[1][:,:,:,f]\n",
    "    activations_f = activations_f.reshape([activations_f.shape[0],activations_f.shape[1]*activations_f.shape[2]])\n",
    "    ac_f = AgglomerativeClustering(n_clusters=4).fit(activations_f) \n",
    "\n",
    "    artifact_clusters['l1_f'+str(f)] = ac_f.labels_"
   ]
  },
  {
   "cell_type": "code",
   "execution_count": 17,
   "id": "fe66f81f-491a-4513-b1c7-59e8cd636d40",
   "metadata": {
    "colab": {
     "base_uri": "https://localhost:8080/"
    },
    "executionInfo": {
     "elapsed": 10,
     "status": "ok",
     "timestamp": 1739865350932,
     "user": {
      "displayName": "Anna Burda",
      "userId": "09516679268739957570"
     },
     "user_tz": -60
    },
    "id": "fe66f81f-491a-4513-b1c7-59e8cd636d40",
    "outputId": "d6cdc21d-e309-473d-8aea-5830a80ec7a1"
   },
   "outputs": [
    {
     "name": "stdout",
     "output_type": "stream",
     "text": [
      "       l0_f0  l0_f1  l0_f2  l0_f3  l1_f0  l1_f1  l1_f2  l1_f3\n",
      "0          0      0      2      1      1      3      0      1\n",
      "1          0      0      1      1      3      3      0      0\n",
      "2          3      2      2      0      0      1      0      1\n",
      "3          0      0      2      2      0      0      3      1\n",
      "4          0      0      0      2      1      3      0      2\n",
      "...      ...    ...    ...    ...    ...    ...    ...    ...\n",
      "47995      0      0      0      2      0      0      3      0\n",
      "47996      0      0      3      1      2      3      0      0\n",
      "47997      1      1      2      0      0      2      2      3\n",
      "47998      0      0      1      1      1      3      0      1\n",
      "47999      0      0      3      1      1      3      0      1\n",
      "\n",
      "[48000 rows x 8 columns]\n"
     ]
    }
   ],
   "source": [
    "print(artifact_clusters)"
   ]
  },
  {
   "cell_type": "code",
   "execution_count": 18,
   "id": "8c475eb1-db3f-49a4-aecf-ec32905d40be",
   "metadata": {
    "executionInfo": {
     "elapsed": 7581,
     "status": "ok",
     "timestamp": 1739865358509,
     "user": {
      "displayName": "Anna Burda",
      "userId": "09516679268739957570"
     },
     "user_tz": -60
    },
    "id": "8c475eb1-db3f-49a4-aecf-ec32905d40be"
   },
   "outputs": [],
   "source": [
    "activations_d_1 = activations[3]\n",
    "ac_d = AgglomerativeClustering(n_clusters=10).fit(activations_d_1)\n",
    "artifact_clusters['l3'] = ac_d.labels_"
   ]
  },
  {
   "cell_type": "code",
   "execution_count": 19,
   "id": "c4d6b272-94b1-4007-91d6-a38f5c14b351",
   "metadata": {
    "colab": {
     "base_uri": "https://localhost:8080/"
    },
    "executionInfo": {
     "elapsed": 9,
     "status": "ok",
     "timestamp": 1739865358509,
     "user": {
      "displayName": "Anna Burda",
      "userId": "09516679268739957570"
     },
     "user_tz": -60
    },
    "id": "c4d6b272-94b1-4007-91d6-a38f5c14b351",
    "outputId": "c259c39e-6c4b-4817-b9aa-48d8c57c7832"
   },
   "outputs": [
    {
     "name": "stdout",
     "output_type": "stream",
     "text": [
      "[8 7 2 ... 6 8 8]\n"
     ]
    }
   ],
   "source": [
    "print(ac_d.labels_)"
   ]
  },
  {
   "cell_type": "code",
   "execution_count": 20,
   "id": "eb15c878-8804-4ff2-bb3d-c4d909601b92",
   "metadata": {
    "colab": {
     "base_uri": "https://localhost:8080/"
    },
    "executionInfo": {
     "elapsed": 8,
     "status": "ok",
     "timestamp": 1739865358510,
     "user": {
      "displayName": "Anna Burda",
      "userId": "09516679268739957570"
     },
     "user_tz": -60
    },
    "id": "eb15c878-8804-4ff2-bb3d-c4d909601b92",
    "outputId": "c0ea4997-eaa8-4fd3-ede1-f98fa343566d"
   },
   "outputs": [
    {
     "name": "stdout",
     "output_type": "stream",
     "text": [
      "       l0_f0  l0_f1  l0_f2  l0_f3  l1_f0  l1_f1  l1_f2  l1_f3  l3\n",
      "0          0      0      2      1      1      3      0      1   8\n",
      "1          0      0      1      1      3      3      0      0   7\n",
      "2          3      2      2      0      0      1      0      1   2\n",
      "3          0      0      2      2      0      0      3      1   4\n",
      "4          0      0      0      2      1      3      0      2   0\n",
      "...      ...    ...    ...    ...    ...    ...    ...    ...  ..\n",
      "47995      0      0      0      2      0      0      3      0   4\n",
      "47996      0      0      3      1      2      3      0      0   7\n",
      "47997      1      1      2      0      0      2      2      3   6\n",
      "47998      0      0      1      1      1      3      0      1   8\n",
      "47999      0      0      3      1      1      3      0      1   8\n",
      "\n",
      "[48000 rows x 9 columns]\n"
     ]
    }
   ],
   "source": [
    "print(artifact_clusters)"
   ]
  },
  {
   "cell_type": "code",
   "execution_count": 21,
   "id": "3c6d05d9-51ee-43e4-bddd-ab8490f60937",
   "metadata": {
    "colab": {
     "base_uri": "https://localhost:8080/"
    },
    "executionInfo": {
     "elapsed": 2719,
     "status": "ok",
     "timestamp": 1739865362064,
     "user": {
      "displayName": "Anna Burda",
      "userId": "09516679268739957570"
     },
     "user_tz": -60
    },
    "id": "3c6d05d9-51ee-43e4-bddd-ab8490f60937",
    "outputId": "e72036d2-6d62-4dcd-a049-94e2bdcb1e63"
   },
   "outputs": [
    {
     "name": "stdout",
     "output_type": "stream",
     "text": [
      "\u001b[1m1500/1500\u001b[0m \u001b[32m━━━━━━━━━━━━━━━━━━━━\u001b[0m\u001b[37m\u001b[0m \u001b[1m1s\u001b[0m 738us/step\n"
     ]
    }
   ],
   "source": [
    "predictions = model.predict(x=x_train)\n",
    "pred = np.argmax(predictions, axis=1)"
   ]
  },
  {
   "cell_type": "code",
   "execution_count": 22,
   "id": "de2c53c2-ecde-4bfe-8454-30fa3b154eb2",
   "metadata": {
    "colab": {
     "base_uri": "https://localhost:8080/"
    },
    "executionInfo": {
     "elapsed": 15,
     "status": "ok",
     "timestamp": 1739865362065,
     "user": {
      "displayName": "Anna Burda",
      "userId": "09516679268739957570"
     },
     "user_tz": -60
    },
    "id": "de2c53c2-ecde-4bfe-8454-30fa3b154eb2",
    "outputId": "f444a1d2-af6f-4378-9040-644b58bd32de"
   },
   "outputs": [
    {
     "name": "stdout",
     "output_type": "stream",
     "text": [
      "[8 3 1 ... 7 8 8]\n"
     ]
    }
   ],
   "source": [
    "print(pred)"
   ]
  },
  {
   "cell_type": "code",
   "execution_count": 23,
   "id": "d23022fb-3497-4bb4-b45d-475b2faf040f",
   "metadata": {
    "executionInfo": {
     "elapsed": 13,
     "status": "ok",
     "timestamp": 1739865362065,
     "user": {
      "displayName": "Anna Burda",
      "userId": "09516679268739957570"
     },
     "user_tz": -60
    },
    "id": "d23022fb-3497-4bb4-b45d-475b2faf040f"
   },
   "outputs": [],
   "source": [
    "artifact_clusters['p'] = pred"
   ]
  },
  {
   "cell_type": "code",
   "execution_count": 24,
   "id": "e4d00d2d-8e09-4ac6-aa1b-6bcba0fef48f",
   "metadata": {
    "colab": {
     "base_uri": "https://localhost:8080/"
    },
    "executionInfo": {
     "elapsed": 13,
     "status": "ok",
     "timestamp": 1739865362066,
     "user": {
      "displayName": "Anna Burda",
      "userId": "09516679268739957570"
     },
     "user_tz": -60
    },
    "id": "e4d00d2d-8e09-4ac6-aa1b-6bcba0fef48f",
    "outputId": "e3ba1336-b3cc-462a-d22e-d291a70276e4"
   },
   "outputs": [
    {
     "name": "stdout",
     "output_type": "stream",
     "text": [
      "       l0_f0  l0_f1  l0_f2  l0_f3  l1_f0  l1_f1  l1_f2  l1_f3  l3  p\n",
      "0          0      0      2      1      1      3      0      1   8  8\n",
      "1          0      0      1      1      3      3      0      0   7  3\n",
      "2          3      2      2      0      0      1      0      1   2  1\n",
      "3          0      0      2      2      0      0      3      1   4  6\n",
      "4          0      0      0      2      1      3      0      2   0  2\n",
      "...      ...    ...    ...    ...    ...    ...    ...    ...  .. ..\n",
      "47995      0      0      0      2      0      0      3      0   4  6\n",
      "47996      0      0      3      1      2      3      0      0   7  9\n",
      "47997      1      1      2      0      0      2      2      3   6  7\n",
      "47998      0      0      1      1      1      3      0      1   8  8\n",
      "47999      0      0      3      1      1      3      0      1   8  8\n",
      "\n",
      "[48000 rows x 10 columns]\n"
     ]
    }
   ],
   "source": [
    "print(artifact_clusters)"
   ]
  },
  {
   "cell_type": "code",
   "execution_count": 25,
   "id": "528986ed-6009-425d-a720-80a73f53443c",
   "metadata": {
    "executionInfo": {
     "elapsed": 10,
     "status": "ok",
     "timestamp": 1739865362066,
     "user": {
      "displayName": "Anna Burda",
      "userId": "09516679268739957570"
     },
     "user_tz": -60
    },
    "id": "528986ed-6009-425d-a720-80a73f53443c"
   },
   "outputs": [],
   "source": [
    "artifact_clusters.to_csv('isog.csv', sep=',', index=False)"
   ]
  },
  {
   "cell_type": "code",
   "execution_count": 26,
   "id": "9eedc93e-6cd6-4bb4-ab65-b69d67e142a6",
   "metadata": {
    "executionInfo": {
     "elapsed": 9,
     "status": "ok",
     "timestamp": 1739865362066,
     "user": {
      "displayName": "Anna Burda",
      "userId": "09516679268739957570"
     },
     "user_tz": -60
    },
    "id": "9eedc93e-6cd6-4bb4-ab65-b69d67e142a6"
   },
   "outputs": [],
   "source": [
    "isog = pd.DataFrame()"
   ]
  },
  {
   "cell_type": "code",
   "execution_count": 27,
   "id": "76d45a77-31b7-485b-9f3a-1bbd90a83fe6",
   "metadata": {
    "executionInfo": {
     "elapsed": 335,
     "status": "ok",
     "timestamp": 1739865362393,
     "user": {
      "displayName": "Anna Burda",
      "userId": "09516679268739957570"
     },
     "user_tz": -60
    },
    "id": "76d45a77-31b7-485b-9f3a-1bbd90a83fe6"
   },
   "outputs": [],
   "source": [
    "isog['conv1'] = artifact_clusters.astype(str).loc[:,['l0_f0', 'l0_f1', 'l0_f2', 'l0_f3']].apply('_'.join, axis=1)"
   ]
  },
  {
   "cell_type": "code",
   "execution_count": 28,
   "id": "8a56b56e-a48c-457e-83cc-281989c70530",
   "metadata": {
    "executionInfo": {
     "elapsed": 335,
     "status": "ok",
     "timestamp": 1739865362393,
     "user": {
      "displayName": "Anna Burda",
      "userId": "09516679268739957570"
     },
     "user_tz": -60
    },
    "id": "8a56b56e-a48c-457e-83cc-281989c70530"
   },
   "outputs": [],
   "source": [
    "isog['conv2'] = artifact_clusters.astype(str).loc[:,['l1_f0', 'l1_f1', 'l1_f2', 'l1_f3']].apply('_'.join, axis=1)"
   ]
  },
  {
   "cell_type": "code",
   "execution_count": 29,
   "id": "7ce6d1a6-b318-4ee2-923d-a795a308671f",
   "metadata": {
    "executionInfo": {
     "elapsed": 6,
     "status": "ok",
     "timestamp": 1739865362394,
     "user": {
      "displayName": "Anna Burda",
      "userId": "09516679268739957570"
     },
     "user_tz": -60
    },
    "id": "7ce6d1a6-b318-4ee2-923d-a795a308671f"
   },
   "outputs": [],
   "source": [
    "isog['dense1'] = artifact_clusters['l3']"
   ]
  },
  {
   "cell_type": "code",
   "execution_count": 30,
   "id": "65d2cdf0-c392-490a-b4e6-6879602d00be",
   "metadata": {
    "executionInfo": {
     "elapsed": 5,
     "status": "ok",
     "timestamp": 1739865362394,
     "user": {
      "displayName": "Anna Burda",
      "userId": "09516679268739957570"
     },
     "user_tz": -60
    },
    "id": "65d2cdf0-c392-490a-b4e6-6879602d00be"
   },
   "outputs": [],
   "source": [
    "isog['output'] = artifact_clusters['p']"
   ]
  },
  {
   "cell_type": "code",
   "execution_count": 31,
   "id": "438672d2-7c4a-4577-b286-687054f8d6b1",
   "metadata": {
    "colab": {
     "base_uri": "https://localhost:8080/"
    },
    "executionInfo": {
     "elapsed": 5,
     "status": "ok",
     "timestamp": 1739865362394,
     "user": {
      "displayName": "Anna Burda",
      "userId": "09516679268739957570"
     },
     "user_tz": -60
    },
    "id": "438672d2-7c4a-4577-b286-687054f8d6b1",
    "outputId": "eff3a2ea-cec8-4a0f-960f-b2d2049e1834"
   },
   "outputs": [
    {
     "name": "stdout",
     "output_type": "stream",
     "text": [
      "         conv1    conv2  dense1  output\n",
      "0      0_0_2_1  1_3_0_1       8       8\n",
      "1      0_0_1_1  3_3_0_0       7       3\n",
      "2      3_2_2_0  0_1_0_1       2       1\n",
      "3      0_0_2_2  0_0_3_1       4       6\n",
      "4      0_0_0_2  1_3_0_2       0       2\n",
      "...        ...      ...     ...     ...\n",
      "47995  0_0_0_2  0_0_3_0       4       6\n",
      "47996  0_0_3_1  2_3_0_0       7       9\n",
      "47997  1_1_2_0  0_2_2_3       6       7\n",
      "47998  0_0_1_1  1_3_0_1       8       8\n",
      "47999  0_0_3_1  1_3_0_1       8       8\n",
      "\n",
      "[48000 rows x 4 columns]\n"
     ]
    }
   ],
   "source": [
    "print(isog)"
   ]
  },
  {
   "cell_type": "code",
   "execution_count": 32,
   "id": "8298851c-4a39-41f4-ab6c-bf2ea17216d4",
   "metadata": {
    "executionInfo": {
     "elapsed": 4,
     "status": "ok",
     "timestamp": 1739865362394,
     "user": {
      "displayName": "Anna Burda",
      "userId": "09516679268739957570"
     },
     "user_tz": -60
    },
    "id": "8298851c-4a39-41f4-ab6c-bf2ea17216d4"
   },
   "outputs": [],
   "source": [
    "isog.to_csv('isog.csv', sep=' ', index=False)"
   ]
  },
  {
   "cell_type": "code",
   "execution_count": 33,
   "id": "9e700dfb-4b0f-4de9-939d-dcc5b02fc476",
   "metadata": {},
   "outputs": [],
   "source": [
    "save_edge_list_with_coefficients_csv(isog, graph_file_name)"
   ]
  },
  {
   "cell_type": "code",
   "execution_count": 34,
   "id": "174f9695-89c5-4103-863a-20ce8dd8a745",
   "metadata": {},
   "outputs": [],
   "source": [
    "rsfg = pd.read_csv(graph_file_name, sep=',')"
   ]
  },
  {
   "cell_type": "code",
   "execution_count": 35,
   "id": "dc18ed14-12b5-4a22-99b9-80b943ad8a86",
   "metadata": {},
   "outputs": [
    {
     "name": "stdout",
     "output_type": "stream",
     "text": [
      "     Level           Relation  Cnt (count)  Cer (certainty)  Cov (coverage)  \\\n",
      "0     0<>1  0_0_2_1-->1_3_0_1          231         0.350000        0.080404   \n",
      "1     0<>1  0_0_1_1-->3_3_0_0          735         0.146765        0.270818   \n",
      "2     0<>1  3_2_2_0-->0_1_0_1         4296         0.848509        0.966914   \n",
      "3     0<>1  0_0_2_2-->0_0_3_1           25         0.213675        0.250000   \n",
      "4     0<>1  0_0_0_2-->1_3_0_2          552         0.083712        0.750000   \n",
      "...    ...                ...          ...              ...             ...   \n",
      "2949  2<>3              8-->4            1         0.000216        0.000216   \n",
      "2950  2<>3              1-->8            2         0.000423        0.000427   \n",
      "2951  2<>3              1-->1            1         0.000211        0.000185   \n",
      "2952  2<>3              2-->5            2         0.000380        0.000461   \n",
      "2953  2<>3              9-->0            1         0.000246        0.000211   \n",
      "\n",
      "      Str (strength)  \n",
      "0           0.004812  \n",
      "1           0.015312  \n",
      "2           0.089500  \n",
      "3           0.000521  \n",
      "4           0.011500  \n",
      "...              ...  \n",
      "2949        0.000021  \n",
      "2950        0.000042  \n",
      "2951        0.000021  \n",
      "2952        0.000042  \n",
      "2953        0.000021  \n",
      "\n",
      "[2954 rows x 6 columns]\n"
     ]
    }
   ],
   "source": [
    "print(rsfg)"
   ]
  },
  {
   "cell_type": "code",
   "execution_count": 36,
   "id": "805e1ec6-d122-49df-910d-58becef04739",
   "metadata": {},
   "outputs": [],
   "source": [
    "rsfg['Con (confidence)'] = 2*rsfg['Cer (certainty)']*rsfg['Cov (coverage)']/(rsfg['Cer (certainty)']+rsfg['Cov (coverage)'])"
   ]
  },
  {
   "cell_type": "code",
   "execution_count": 37,
   "id": "a217d464-ffe6-4b4e-9e96-9d9ffd9d21e5",
   "metadata": {},
   "outputs": [
    {
     "name": "stdout",
     "output_type": "stream",
     "text": [
      "     Level           Relation  Cnt (count)  Cer (certainty)  Cov (coverage)  \\\n",
      "0     0<>1  0_0_2_1-->1_3_0_1          231         0.350000        0.080404   \n",
      "1     0<>1  0_0_1_1-->3_3_0_0          735         0.146765        0.270818   \n",
      "2     0<>1  3_2_2_0-->0_1_0_1         4296         0.848509        0.966914   \n",
      "3     0<>1  0_0_2_2-->0_0_3_1           25         0.213675        0.250000   \n",
      "4     0<>1  0_0_0_2-->1_3_0_2          552         0.083712        0.750000   \n",
      "...    ...                ...          ...              ...             ...   \n",
      "2949  2<>3              8-->4            1         0.000216        0.000216   \n",
      "2950  2<>3              1-->8            2         0.000423        0.000427   \n",
      "2951  2<>3              1-->1            1         0.000211        0.000185   \n",
      "2952  2<>3              2-->5            2         0.000380        0.000461   \n",
      "2953  2<>3              9-->0            1         0.000246        0.000211   \n",
      "\n",
      "      Str (strength)  Con (confidence)  \n",
      "0           0.004812          0.130767  \n",
      "1           0.015312          0.190365  \n",
      "2           0.089500          0.903850  \n",
      "3           0.000521          0.230415  \n",
      "4           0.011500          0.150613  \n",
      "...              ...               ...  \n",
      "2949        0.000021          0.000216  \n",
      "2950        0.000042          0.000425  \n",
      "2951        0.000021          0.000197  \n",
      "2952        0.000042          0.000417  \n",
      "2953        0.000021          0.000227  \n",
      "\n",
      "[2954 rows x 7 columns]\n"
     ]
    }
   ],
   "source": [
    "print(rsfg)"
   ]
  },
  {
   "cell_type": "code",
   "execution_count": 38,
   "id": "e0a5bed4-8788-48d7-857b-22863e088671",
   "metadata": {},
   "outputs": [
    {
     "name": "stdout",
     "output_type": "stream",
     "text": [
      "['0<>1' '1<>2' '2<>3']\n"
     ]
    }
   ],
   "source": [
    "levels = rsfg['Level'].unique()\n",
    "print(levels)"
   ]
  },
  {
   "cell_type": "code",
   "execution_count": null,
   "id": "57e5aeb6-3458-422d-8168-c0e70092b55c",
   "metadata": {},
   "outputs": [],
   "source": [
    "rsfg_layers = list()\n",
    "node_dicts = list()\n",
    "\n",
    "for level in levels:\n",
    "\n",
    "    layer = rsfg.loc[rsfg['Level']==level,:]\n",
    "    layer[['Source', 'Target']] = layer['Relation'].str.split('-->', expand=True)\n",
    "\n",
    "    if len(node_dicts)==0:\n",
    "        \n",
    "        node_dict_1 = {key: i for i, key in enumerate(layer['Source'].unique())}\n",
    "        node_dicts.append(node_dict_1)\n",
    "\n",
    "        layer['Source_id'] = layer['Source'].map(node_dict_1)\n",
    "\n",
    "    else:\n",
    "\n",
    "        layer['Source_id'] = layer['Source'].map(node_dicts[-1])        \n",
    "\n",
    "    node_dict_2 = {key: i for i, key in enumerate(layer['Target'].unique())}\n",
    "    node_dicts.append(node_dict_2)\n",
    "\n",
    "    layer['Target_id'] = layer['Target'].map(node_dict_2)\n",
    "    \n",
    "    layer = layer[['Source_id', 'Target_id', 'Source', 'Target', 'Con (confidence)']]\n",
    "        \n",
    "    rsfg_layers.append(layer)"
   ]
  },
  {
   "cell_type": "markdown",
   "id": "e7fbe185-3519-4cdc-ba5c-83b35f083d3c",
   "metadata": {},
   "source": [
    "## Genetic Algorithm"
   ]
  },
  {
   "cell_type": "markdown",
   "id": "4e6b963e-491f-4f4b-83b8-801211b2e803",
   "metadata": {},
   "source": [
    "https://pypi.org/project/geneticalgorithm/"
   ]
  },
  {
   "cell_type": "code",
   "execution_count": 41,
   "id": "eb621af9-1a44-42cc-be8f-559cf70db92e",
   "metadata": {},
   "outputs": [],
   "source": [
    "def fitness(x):\n",
    "\n",
    "    confidences = list()\n",
    "\n",
    "    for i in range(len(x)-1):\n",
    "\n",
    "        layer = rsfg_layers[i]\n",
    "\n",
    "        confidence = layer.loc[(layer['Source_id']==x[i]) & (layer['Target_id']==x[i+1]), ['Con (confidence)']]\n",
    "\n",
    "        if len(confidence)==0:\n",
    "\n",
    "            return 0\n",
    "            \n",
    "        confidences.append(confidence['Con (confidence)'])\n",
    "\n",
    "    return -np.min(np.array(confidences))  "
   ]
  },
  {
   "cell_type": "code",
   "execution_count": 42,
   "id": "902b7583-900b-413a-bf44-cdac28a4ed6a",
   "metadata": {},
   "outputs": [
    {
     "name": "stdout",
     "output_type": "stream",
     "text": [
      "[[0, 171], [0, 187], [0, 9], [0, 9]]\n",
      " The best solution found:                                                                           \n",
      " [ 7. 13.  3.  3.]\n",
      "\n",
      " Objective function:\n",
      " -0.49865025752168657\n"
     ]
    },
    {
     "data": {
      "image/png": "[encoded data removed]",
      "text/plain": [
       "<Figure size 640x480 with 1 Axes>"
      ]
     },
     "metadata": {},
     "output_type": "display_data"
    }
   ],
   "source": [
    "parameters = {'max_num_iteration': 5000,\n",
    "              'population_size': 20,\n",
    "              'parents_portion': 0.3,\n",
    "              'mutation_probability':0.1,\n",
    "              'crossover_probability': 0.1,\n",
    "              'elit_ratio': 0.01,\n",
    "              'crossover_type':'uniform',\n",
    "              'max_iteration_without_improv': None}\n",
    "\n",
    "\n",
    "varbounds = []\n",
    "\n",
    "for d in node_dicts:\n",
    "\n",
    "    varbounds.append([0,len(d)-1])\n",
    "\n",
    "print(varbounds)\n",
    "\n",
    "gen_alg = ga(function=fitness, dimension=len(varbounds), variable_type='int', variable_boundaries=np.array(varbounds), algorithm_parameters=parameters)\n",
    "\n",
    "gen_alg.run()"
   ]
  },
  {
   "cell_type": "code",
   "execution_count": 43,
   "id": "0c8d9fad-a12e-4569-a799-f32380b031cb",
   "metadata": {},
   "outputs": [],
   "source": [
    "best_path = gen_alg.output_dict['variable']"
   ]
  },
  {
   "cell_type": "code",
   "execution_count": 44,
   "id": "37b3c569-d5cb-4e9b-bcaf-d20f8f726367",
   "metadata": {},
   "outputs": [
    {
     "name": "stdout",
     "output_type": "stream",
     "text": [
      "[    Con (confidence)   Source   Target\n",
      "59           0.49865  2_3_0_2  0_0_1_2,       Con (confidence)   Source Target\n",
      "2138          0.545946  0_0_1_2      4,       Con (confidence) Source Target\n",
      "2872          0.986072      4      6]\n"
     ]
    }
   ],
   "source": [
    "best_path_info = list()\n",
    "\n",
    "for i in range(len(best_path)-1):\n",
    "\n",
    "        layer = rsfg_layers[i]\n",
    "\n",
    "        path_info = layer.loc[(layer['Source_id']==best_path[i]) & (layer['Target_id']==best_path[i+1]), ['Con (confidence)', 'Source', 'Target']]\n",
    "\n",
    "        best_path_info.append(path_info)\n",
    "\n",
    "print(best_path_info)"
   ]
  },
  {
   "cell_type": "markdown",
   "id": "546a5052-576b-4de7-96bb-295bab87881a",
   "metadata": {},
   "source": [
    "## Visualization"
   ]
  },
  {
   "cell_type": "code",
   "execution_count": 45,
   "id": "UN_C0wMfIopX",
   "metadata": {
    "colab": {
     "base_uri": "https://localhost:8080/",
     "height": 1000
    },
    "executionInfo": {
     "elapsed": 2973,
     "status": "ok",
     "timestamp": 1739868619859,
     "user": {
      "displayName": "Anna Burda",
      "userId": "09516679268739957570"
     },
     "user_tz": -60
    },
    "id": "UN_C0wMfIopX",
    "outputId": "5fa73fe3-ba14-4f4e-b06f-341372c46fe2"
   },
   "outputs": [
    {
     "data": {
      "image/png": "[encoded data removed]",
      "text/plain": [
       "<Figure size 2000x4000 with 16 Axes>"
      ]
     },
     "metadata": {},
     "output_type": "display_data"
    }
   ],
   "source": [
    "plt.rcParams.update({'font.size': 18})\n",
    "\n",
    "fig, axes = plt.subplots(4, 4, figsize=(20, 40)) \n",
    "fig.suptitle(\"Average activations for all filters in the convolutional layers\")\n",
    "\n",
    "source_cluster_indexes = best_path_info[0]['Source'].item().split('_')\n",
    "target_cluster_indexes = best_path_info[0]['Target'].item().split('_')\n",
    "\n",
    "row = 0\n",
    "\n",
    "for filter_index in range(4):\n",
    "\n",
    "    source_cluster_index = int(source_cluster_indexes[filter_index])\n",
    "    target_cluster_index = int(target_cluster_indexes[filter_index])\n",
    "    \n",
    "    activation_data_0 = activations[0][artifact_clusters[f'l0_f{filter_index}'] == source_cluster_index, :, :, filter_index]\n",
    "    cluster_0 = artifact_clusters.loc[artifact_clusters[f'l0_f{filter_index}'] == source_cluster_index, :]\n",
    "\n",
    "    activation_data_1 = activations[1][artifact_clusters[f'l1_f{filter_index}'] == target_cluster_index, :, :, filter_index]\n",
    "    cluster_1= artifact_clusters.loc[artifact_clusters[f'l1_f{filter_index}'] == target_cluster_index, :]\n",
    "\n",
    "    average_activation_0 = np.mean(activation_data_0, axis=0)\n",
    "    average_activation_1 = np.mean(activation_data_1, axis=0)\n",
    "\n",
    "    col = filter_index\n",
    "            \n",
    "    axes[2*row, col].imshow(average_activation_0, cmap=plt.get_cmap('gray'))\n",
    "    axes[2*row, col].axis(\"off\")\n",
    "    axes[2*row, col].set_title(f\"Filter {filter_index}, Cluster {source_cluster_index}\")\n",
    "\n",
    "    bins = np.arange(0, 9 + 1.5) - 0.5\n",
    "    axes[2*row+1, col].hist(cluster_0['p'], bins)\n",
    "    axes[2*row+1, col].set_xticks(bins + 0.5)\n",
    "\n",
    "    axes[2*row+2, col].imshow(average_activation_1, cmap=plt.get_cmap('gray'))\n",
    "    axes[2*row+2, col].axis(\"off\")\n",
    "    axes[2*row+2, col].set_title(f\"Filter {filter_index}, Cluster {target_cluster_index}\")\n",
    "\n",
    "    bins = np.arange(0, 9 + 1.5) - 0.5\n",
    "    axes[2*row+3, col].hist(cluster_1['p'], bins)\n",
    "    axes[2*row+3, col].set_xticks(bins + 0.5)\n",
    "\n",
    "# Zapisanie wykresu do pliku PNG\n",
    "plt.savefig(\"activation_all_filters_conv_1.png\")\n",
    "plt.show()\n",
    "plt.close(fig)  # Zamknięcie figury po zapisie"
   ]
  },
  {
   "cell_type": "markdown",
   "id": "70ed8720-aada-4f07-8c89-47f9a2bfd6e5",
   "metadata": {
    "id": "f8880ea5-e035-4ac3-b639-39af6f8701d5"
   },
   "source": [
    "## Shap"
   ]
  },
  {
   "cell_type": "code",
   "execution_count": 59,
   "id": "049c3939-906c-48ae-b1b9-82f82485ba13",
   "metadata": {},
   "outputs": [
    {
     "name": "stdout",
     "output_type": "stream",
     "text": [
      "WARNING:tensorflow:5 out of the last 15 calls to <function TFDeep.phi_symbolic.<locals>.grad_graph at 0x7330eeb68d60> triggered tf.function retracing. Tracing is expensive and the excessive number of tracings could be due to (1) creating @tf.function repeatedly in a loop, (2) passing tensors with different shapes, (3) passing Python objects instead of tensors. For (1), please define your @tf.function outside of the loop. For (2), @tf.function has reduce_retracing=True option that can avoid unnecessary retracing. For (3), please refer to https://www.tensorflow.org/guide/function#controlling_retracing and https://www.tensorflow.org/api_docs/python/tf/function for  more details.\n",
      "WARNING:tensorflow:5 out of the last 12 calls to <function TFDeep.phi_symbolic.<locals>.grad_graph at 0x7330ef5fa3e0> triggered tf.function retracing. Tracing is expensive and the excessive number of tracings could be due to (1) creating @tf.function repeatedly in a loop, (2) passing tensors with different shapes, (3) passing Python objects instead of tensors. For (1), please define your @tf.function outside of the loop. For (2), @tf.function has reduce_retracing=True option that can avoid unnecessary retracing. For (3), please refer to https://www.tensorflow.org/guide/function#controlling_retracing and https://www.tensorflow.org/api_docs/python/tf/function for  more details.\n"
     ]
    },
    {
     "name": "stderr",
     "output_type": "stream",
     "text": [
      "/srv/anaconda3/envs/kp_3_11_10/lib/python3.11/site-packages/keras/src/models/functional.py:237: UserWarning: The structure of `inputs` doesn't match the expected structure.\n",
      "Expected: keras_tensor\n",
      "Received: inputs=['Tensor(shape=(2, 28, 28, 1))']\n",
      "  warnings.warn(msg)\n"
     ]
    },
    {
     "data": {
      "image/png": "[encoded data removed]",
      "text/plain": [
       "<Figure size 600x750 with 5 Axes>"
      ]
     },
     "metadata": {},
     "output_type": "display_data"
    }
   ],
   "source": [
    "y_2 = y_test[:,2]\n",
    "y_2_idx = [i for i in range(len(y_2)) if y_2[i] == 1]\n",
    "\n",
    "#print(y_2_idx)\n",
    "\n",
    "x_2 = x_test[y_2_idx]\n",
    "\n",
    "background = x_train[np.random.choice(x_train.shape[0], 100, replace=False)]\n",
    "\n",
    "e = shap.DeepExplainer(model, background)\n",
    "shap_values = e.shap_values(x_2[0:2])\n",
    "shap.image_plot(shap_values, -x_2[0:2])"
   ]
  },
  {
   "cell_type": "code",
   "execution_count": null,
   "id": "3bfc2970-f241-4bfa-ad65-8d35627a096c",
   "metadata": {},
   "outputs": [],
   "source": []
  }
 ],
 "metadata": {
  "colab": {
   "provenance": []
  },
  "kernelspec": {
   "display_name": "Python 3 (ipykernel)",
   "language": "python",
   "name": "python3"
  },
  "language_info": {
   "codemirror_mode": {
    "name": "ipython",
    "version": 3
   },
   "file_extension": ".py",
   "mimetype": "text/x-python",
   "name": "python",
   "nbconvert_exporter": "python",
   "pygments_lexer": "ipython3",
   "version": "3.11.10"
  }
 },
 "nbformat": 4,
 "nbformat_minor": 5
}
